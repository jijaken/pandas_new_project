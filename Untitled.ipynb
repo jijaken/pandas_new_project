{
 "cells": [
  {
   "cell_type": "code",
   "execution_count": 1,
   "id": "f542d8e6",
   "metadata": {},
   "outputs": [],
   "source": [
    "import pandas as pd"
   ]
  },
  {
   "cell_type": "code",
   "execution_count": 2,
   "id": "94423c60",
   "metadata": {},
   "outputs": [],
   "source": [
    "#Загружаем наж датафрейм\n",
    "df = pd.read_csv('playstore.csv').drop(columns='Unnamed: 0')"
   ]
  },
  {
   "cell_type": "code",
   "execution_count": 3,
   "id": "93f35cc6",
   "metadata": {},
   "outputs": [],
   "source": [
    "#Добавляем на него ссылку \"playstore\"\n",
    "playstore = df "
   ]
  },
  {
   "cell_type": "code",
   "execution_count": 4,
   "id": "c4bdc061",
   "metadata": {},
   "outputs": [],
   "source": [
    "#Поместим первых 3 и последних 3 записи в переменные data_head и data_tail соответственно\n",
    "data_head = playstore.head(3)\n",
    "data_tail = playstore.tail(3)"
   ]
  },
  {
   "cell_type": "code",
   "execution_count": 5,
   "id": "4f0d76ac",
   "metadata": {},
   "outputs": [],
   "source": [
    "#Поместим количество строк и колонок в переменные n_row и n_col соответственно\n",
    "n_row, n_col = playstore.shape"
   ]
  },
  {
   "cell_type": "code",
   "execution_count": 6,
   "id": "4f7a42d2",
   "metadata": {},
   "outputs": [],
   "source": [
    "#Посчитаем количество уникальных приложений\n",
    "uniquie_app = len(set(playstore['App']))"
   ]
  },
  {
   "cell_type": "code",
   "execution_count": 7,
   "id": "b6d7abe2",
   "metadata": {},
   "outputs": [],
   "source": [
    "#Посчитаем количество пустых ячеек в колонке 'Rating' и поместим в переменную rating_missing\n",
    "rating_missing = playstore[playstore['Rating'].isna()].shape[0]"
   ]
  },
  {
   "cell_type": "code",
   "execution_count": 8,
   "id": "a6a8f186",
   "metadata": {},
   "outputs": [],
   "source": [
    "#Создадим копию и сократим в ней количество столбцов\n",
    "playstore_copy = playstore[['Category','App', 'Size','Price', 'Genres', 'Current Ver','Reviews']]\n",
    "#Оставим лишь строки 1-3, 6-8, 16-19. Индексы от прошлой таблцы оставляем.\n",
    "playstore_copy =  pd.concat([playstore_copy[:3], playstore_copy[5:8], playstore_copy[15:19]],sort=False)\n",
    "#Вынесем получившуюся табличку в csv файл с разделителем ','\n",
    "playstore_copy.to_csv('playstore_copy.csv')"
   ]
  },
  {
   "cell_type": "code",
   "execution_count": 9,
   "id": "15dd3040",
   "metadata": {},
   "outputs": [],
   "source": [
    "#Удалим строки, в которых будет повторения столбца 'App' (приложения). Оставим только первые попавшиеся строки. Индексы сбросим.\n",
    "unique_playstore = playstore.drop_duplicates(subset=['App'],keep='first').reset_index(drop=True)"
   ]
  },
  {
   "cell_type": "code",
   "execution_count": 10,
   "id": "72a173aa",
   "metadata": {},
   "outputs": [],
   "source": [
    "#В получившейся табличке колонки переведем в нижний регистр. Все пробелы заменим на '_'\n",
    "unique_playstore.columns = unique_playstore.columns.str.lower().str.replace(' ','_')"
   ]
  },
  {
   "cell_type": "code",
   "execution_count": 11,
   "id": "c6d394cd",
   "metadata": {},
   "outputs": [
    {
     "data": {
      "text/plain": [
       "0.92"
      ]
     },
     "execution_count": 11,
     "metadata": {},
     "output_type": "execute_result"
    }
   ],
   "source": [
    "#Найдем процент бесплатных приложений в получившийся табличке.\n",
    "round((unique_playstore[unique_playstore['price']=='0'].shape[0]/ unique_playstore['price'].shape[0]),2)"
   ]
  },
  {
   "cell_type": "code",
   "execution_count": 12,
   "id": "7bb54f2a",
   "metadata": {},
   "outputs": [],
   "source": [
    "#Отфильтруем нашу табличку. Оставим строки, где столбец 'category' имеет запись 'EDUCATION' \n",
    "#И в столбце 'reviews' число больше 1000. Индексы сбросим\n",
    "education_playstore = unique_playstore[(unique_playstore['category']=='EDUCATION') & \n",
    "                                       (unique_playstore['reviews']>1000)].reset_index(drop=True)"
   ]
  },
  {
   "cell_type": "code",
   "execution_count": 13,
   "id": "9d044c0a",
   "metadata": {},
   "outputs": [],
   "source": [
    "#Преобразуем значения столбца 'price' в тип переменных float64\n",
    "unique_playstore['price'] = unique_playstore['price'].str.replace('$','',regex=True).astype({'price':'float64'})"
   ]
  },
  {
   "cell_type": "code",
   "execution_count": 14,
   "id": "a425340f",
   "metadata": {},
   "outputs": [
    {
     "data": {
      "text/plain": [
       "Index(['app', 'category', 'rating', 'reviews', 'size', 'installs', 'type',\n",
       "       'price', 'content_rating', 'genres', 'last_updated', 'current_ver',\n",
       "       'android_ver'],\n",
       "      dtype='object')"
      ]
     },
     "execution_count": 14,
     "metadata": {},
     "output_type": "execute_result"
    }
   ],
   "source": [
    "#Посмотрим какипе колонки у нас получились \n",
    "unique_playstore.columns"
   ]
  },
  {
   "cell_type": "code",
   "execution_count": 15,
   "id": "ab8c5e73",
   "metadata": {},
   "outputs": [
    {
     "data": {
      "text/html": [
       "<div>\n",
       "<style scoped>\n",
       "    .dataframe tbody tr th:only-of-type {\n",
       "        vertical-align: middle;\n",
       "    }\n",
       "\n",
       "    .dataframe tbody tr th {\n",
       "        vertical-align: top;\n",
       "    }\n",
       "\n",
       "    .dataframe thead th {\n",
       "        text-align: right;\n",
       "    }\n",
       "</style>\n",
       "<table border=\"1\" class=\"dataframe\">\n",
       "  <thead>\n",
       "    <tr style=\"text-align: right;\">\n",
       "      <th></th>\n",
       "      <th></th>\n",
       "      <th>mean_price</th>\n",
       "      <th>mean_rating</th>\n",
       "      <th>mean_reviews</th>\n",
       "    </tr>\n",
       "    <tr>\n",
       "      <th>category</th>\n",
       "      <th>type</th>\n",
       "      <th></th>\n",
       "      <th></th>\n",
       "      <th></th>\n",
       "    </tr>\n",
       "  </thead>\n",
       "  <tbody>\n",
       "    <tr>\n",
       "      <th rowspan=\"2\" valign=\"top\">ART_AND_DESIGN</th>\n",
       "      <th>Free</th>\n",
       "      <td>0.00</td>\n",
       "      <td>4.3</td>\n",
       "      <td>23230.11</td>\n",
       "    </tr>\n",
       "    <tr>\n",
       "      <th>Paid</th>\n",
       "      <td>1.99</td>\n",
       "      <td>4.7</td>\n",
       "      <td>722.00</td>\n",
       "    </tr>\n",
       "    <tr>\n",
       "      <th rowspan=\"2\" valign=\"top\">AUTO_AND_VEHICLES</th>\n",
       "      <th>Free</th>\n",
       "      <td>0.00</td>\n",
       "      <td>4.2</td>\n",
       "      <td>14140.28</td>\n",
       "    </tr>\n",
       "    <tr>\n",
       "      <th>Paid</th>\n",
       "      <td>4.49</td>\n",
       "      <td>4.6</td>\n",
       "      <td>1387.67</td>\n",
       "    </tr>\n",
       "    <tr>\n",
       "      <th>BEAUTY</th>\n",
       "      <th>Free</th>\n",
       "      <td>0.00</td>\n",
       "      <td>4.3</td>\n",
       "      <td>7476.23</td>\n",
       "    </tr>\n",
       "    <tr>\n",
       "      <th>...</th>\n",
       "      <th>...</th>\n",
       "      <td>...</td>\n",
       "      <td>...</td>\n",
       "      <td>...</td>\n",
       "    </tr>\n",
       "    <tr>\n",
       "      <th>TRAVEL_AND_LOCAL</th>\n",
       "      <th>Paid</th>\n",
       "      <td>4.16</td>\n",
       "      <td>4.1</td>\n",
       "      <td>1506.08</td>\n",
       "    </tr>\n",
       "    <tr>\n",
       "      <th rowspan=\"2\" valign=\"top\">VIDEO_PLAYERS</th>\n",
       "      <th>Free</th>\n",
       "      <td>0.00</td>\n",
       "      <td>4.0</td>\n",
       "      <td>424347.18</td>\n",
       "    </tr>\n",
       "    <tr>\n",
       "      <th>Paid</th>\n",
       "      <td>2.62</td>\n",
       "      <td>4.1</td>\n",
       "      <td>3341.75</td>\n",
       "    </tr>\n",
       "    <tr>\n",
       "      <th rowspan=\"2\" valign=\"top\">WEATHER</th>\n",
       "      <th>Free</th>\n",
       "      <td>0.00</td>\n",
       "      <td>4.2</td>\n",
       "      <td>171249.62</td>\n",
       "    </tr>\n",
       "    <tr>\n",
       "      <th>Paid</th>\n",
       "      <td>4.05</td>\n",
       "      <td>4.4</td>\n",
       "      <td>17055.12</td>\n",
       "    </tr>\n",
       "  </tbody>\n",
       "</table>\n",
       "<p>63 rows × 3 columns</p>\n",
       "</div>"
      ],
      "text/plain": [
       "                        mean_price  mean_rating  mean_reviews\n",
       "category          type                                       \n",
       "ART_AND_DESIGN    Free        0.00          4.3      23230.11\n",
       "                  Paid        1.99          4.7        722.00\n",
       "AUTO_AND_VEHICLES Free        0.00          4.2      14140.28\n",
       "                  Paid        4.49          4.6       1387.67\n",
       "BEAUTY            Free        0.00          4.3       7476.23\n",
       "...                            ...          ...           ...\n",
       "TRAVEL_AND_LOCAL  Paid        4.16          4.1       1506.08\n",
       "VIDEO_PLAYERS     Free        0.00          4.0     424347.18\n",
       "                  Paid        2.62          4.1       3341.75\n",
       "WEATHER           Free        0.00          4.2     171249.62\n",
       "                  Paid        4.05          4.4      17055.12\n",
       "\n",
       "[63 rows x 3 columns]"
      ]
     },
     "execution_count": 15,
     "metadata": {},
     "output_type": "execute_result"
    }
   ],
   "source": [
    "#Посмтроим сводную таблчку по средней цене, рейтингу и ревью приложений. В качестве аргументов будет категории игр и \n",
    "#их тип стоимости (платная, бесплатная). \n",
    "result = pd.pivot_table(unique_playstore, values=['price','rating','reviews'], index=['category', 'type'], aggfunc='mean')\n",
    "#Среднюю цену округлим до 2 знаков после запятой\n",
    "result['price'] = round(result['price'],2)\n",
    "#Средний рейтинг округлим до 1 знака после запятой\n",
    "result['rating'] = round(result['rating'],1)\n",
    "#Среднее ревью округлим до 2 знаков после запятой\n",
    "result['reviews'] = round(result['reviews'],2)\n",
    "#Для удобства переименуем колонки табличек\n",
    "result.columns = ['mean_price','mean_rating','mean_reviews']\n",
    "\n",
    "#Посмотрим на результат\n",
    "result"
   ]
  },
  {
   "cell_type": "code",
   "execution_count": 16,
   "id": "a43b89e1",
   "metadata": {},
   "outputs": [],
   "source": [
    "#Выведем нашу табличку в csv файл с разделителем ','\n",
    "result.to_csv('result.csv',sep=',')"
   ]
  }
 ],
 "metadata": {
  "kernelspec": {
   "display_name": "Python 3 (ipykernel)",
   "language": "python",
   "name": "python3"
  },
  "language_info": {
   "codemirror_mode": {
    "name": "ipython",
    "version": 3
   },
   "file_extension": ".py",
   "mimetype": "text/x-python",
   "name": "python",
   "nbconvert_exporter": "python",
   "pygments_lexer": "ipython3",
   "version": "3.9.12"
  }
 },
 "nbformat": 4,
 "nbformat_minor": 5
}
