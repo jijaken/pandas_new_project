{
 "cells": [
  {
   "cell_type": "markdown",
   "id": "b3273c5b",
   "metadata": {},
   "source": [
    "import pandas as pd"
   ]
  },
  {
   "cell_type": "markdown",
   "id": "120e505e",
   "metadata": {},
   "source": [
    "df = pd.read_csv('playstore.csv').drop(columns='Unnamed: 0')"
   ]
  },
  {
   "cell_type": "markdown",
   "id": "d92387df",
   "metadata": {},
   "source": [
    "playstore = df "
   ]
  },
  {
   "cell_type": "markdown",
   "id": "3f3eb6cc",
   "metadata": {},
   "source": [
    "data_head = playstore.head(3)\n",
    "data_tail = playstore.tail(3)"
   ]
  },
  {
   "cell_type": "markdown",
   "id": "a2c646bc",
   "metadata": {},
   "source": [
    "n_row, n_col = playstore.shape"
   ]
  },
  {
   "cell_type": "markdown",
   "id": "8490f9bf",
   "metadata": {},
   "source": [
    "uniquie_app = len(set(playstore['App']))"
   ]
  },
  {
   "cell_type": "markdown",
   "id": "f85c1112",
   "metadata": {},
   "source": [
    "rating_missing = playstore[playstore['Rating'].isna()].shape[0]"
   ]
  },
  {
   "cell_type": "markdown",
   "id": "e7c316ef",
   "metadata": {},
   "source": [
    "playstore_copy = playstore[['Category','App', 'Size','Price', 'Genres', 'Current Ver','Reviews']]\n",
    "playstore_copy =  pd.concat([playstore_copy[:3], playstore_copy[5:8], playstore_copy[15:19]],sort=False)\n",
    "playstore_copy.to_csv('playstore_copy.csv')"
   ]
  },
  {
   "cell_type": "markdown",
   "id": "8db6730e",
   "metadata": {},
   "source": [
    "unique_playstore = playstore.drop_duplicates(subset=['App'],keep='first').reset_index(drop=True)"
   ]
  },
  {
   "cell_type": "markdown",
   "id": "f4e1ec5c",
   "metadata": {},
   "source": [
    "unique_playstore.columns = unique_playstore.columns.str.lower().str.replace(' ','_')"
   ]
  },
  {
   "cell_type": "markdown",
   "id": "38938a91",
   "metadata": {
    "scrolled": true
   },
   "source": [
    "round((unique_playstore[unique_playstore['price']=='0'].shape[0]/ unique_playstore['price'].shape[0]),2)"
   ]
  },
  {
   "cell_type": "markdown",
   "id": "f820049a",
   "metadata": {
    "scrolled": true
   },
   "source": [
    "education_playstore = unique_playstore[(unique_playstore['category']=='EDUCATION') & (unique_playstore['reviews']>1000)].reset_index(drop=True)"
   ]
  },
  {
   "cell_type": "markdown",
   "id": "fc207663",
   "metadata": {},
   "source": [
    "unique_playstore['price'] = unique_playstore['price'].str.replace('$','',regex=True).astype({'price':'float64'})"
   ]
  },
  {
   "cell_type": "markdown",
   "id": "f3ca02f6",
   "metadata": {},
   "source": [
    "unique_playstore.columns"
   ]
  },
  {
   "cell_type": "markdown",
   "id": "d6fa03d8",
   "metadata": {
    "scrolled": true
   },
   "source": [
    "result = pd.pivot_table(unique_playstore, values=['price','rating','reviews'], index=['category', 'type'], aggfunc='mean')\n",
    "result['price'] = round(result['price'],2)\n",
    "result['rating'] = round(result['rating'],1)\n",
    "result['reviews'] = round(result['reviews'],2)\n",
    "result.columns = ['mean_price','mean_rating','mean_reviews']\n",
    "result"
   ]
  },
  {
   "cell_type": "markdown",
   "id": "0297e39f",
   "metadata": {},
   "source": [
    "result.to_csv('result.csv',sep=',')"
   ]
  },
  {
   "cell_type": "markdown",
   "id": "dc4e3bc3",
   "metadata": {},
   "source": []
  }
 ],
 "metadata": {
  "kernelspec": {
   "display_name": "Python 3 (ipykernel)",
   "language": "python",
   "name": "python3"
  },
  "language_info": {
   "codemirror_mode": {
    "name": "ipython",
    "version": 3
   },
   "file_extension": ".py",
   "mimetype": "text/x-python",
   "name": "python",
   "nbconvert_exporter": "python",
   "pygments_lexer": "ipython3",
   "version": "3.9.12"
  }
 },
 "nbformat": 4,
 "nbformat_minor": 5
}
